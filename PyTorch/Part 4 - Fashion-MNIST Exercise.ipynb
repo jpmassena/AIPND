{
 "cells": [
  {
   "cell_type": "markdown",
   "metadata": {},
   "source": [
    "# Classifying Fashion-MNIST\n",
    "\n",
    "Now it's your turn to build and train a neural network. You'll be using the [Fashion-MNIST dataset](https://github.com/zalandoresearch/fashion-mnist), a drop-in replacement for the MNIST dataset. MNIST is actually quite trivial with neural networks where you can easily achieve better than 97% accuracy. Fashion-MNIST is a set of 28x28 greyscale images of clothes. It's more complex than MNIST, so it's a better representation of the actual performance of your network, and a better representation of datasets you'll use in the real world.\n",
    "\n",
    "<img src='assets/fashion-mnist-sprite.png' width=500px>\n",
    "\n",
    "In this notebook, you'll build your own neural network. For the most part, you could just copy and paste the code from Part 3, but you wouldn't be learning. It's important for you to write the code yourself and get it to work. Feel free to consult the previous notebook though as you work through this.\n",
    "\n",
    "First off, let's load the dataset through torchvision."
   ]
  },
  {
   "cell_type": "code",
   "execution_count": 8,
   "metadata": {},
   "outputs": [],
   "source": [
    "import torch\n",
    "from torchvision import datasets, transforms\n",
    "import helper\n",
    "\n",
    "# Define a transform to normalize the data\n",
    "transform = transforms.Compose([transforms.ToTensor(),\n",
    "                                transforms.Normalize((0.5, 0.5, 0.5), (0.5, 0.5, 0.5))])\n",
    "# Download and load the training data\n",
    "trainset = datasets.FashionMNIST('F_MNIST_data/', download=True, train=True, transform=transform)\n",
    "trainloader = torch.utils.data.DataLoader(trainset, batch_size=64, shuffle=True)\n",
    "\n",
    "# Download and load the test data\n",
    "testset = datasets.FashionMNIST('F_MNIST_data/', download=True, train=False, transform=transform)\n",
    "testloader = torch.utils.data.DataLoader(testset, batch_size=64, shuffle=True)"
   ]
  },
  {
   "cell_type": "markdown",
   "metadata": {},
   "source": [
    "Here we can see one of the images."
   ]
  },
  {
   "cell_type": "code",
   "execution_count": 9,
   "metadata": {},
   "outputs": [
    {
     "data": {
      "image/png": "[encoded data removed]",
      "text/plain": [
       "<matplotlib.figure.Figure at 0x7f95eb4e7550>"
      ]
     },
     "metadata": {
      "image/png": {
       "height": 233,
       "width": 233
      }
     },
     "output_type": "display_data"
    }
   ],
   "source": [
    "image, label = next(iter(trainloader))\n",
    "helper.imshow(image[0,:]);"
   ]
  },
  {
   "cell_type": "markdown",
   "metadata": {},
   "source": [
    "With the data loaded, it's time to import the necessary packages."
   ]
  },
  {
   "cell_type": "code",
   "execution_count": 10,
   "metadata": {},
   "outputs": [],
   "source": [
    "%matplotlib inline\n",
    "%config InlineBackend.figure_format = 'retina'\n",
    "\n",
    "import matplotlib.pyplot as plt\n",
    "import numpy as np\n",
    "import time\n",
    "\n",
    "import torch\n",
    "from torch import nn\n",
    "from torch import optim\n",
    "import torch.nn.functional as F\n",
    "from torchvision import datasets, transforms\n",
    "\n",
    "import helper"
   ]
  },
  {
   "cell_type": "markdown",
   "metadata": {},
   "source": [
    "## Building the network\n",
    "\n",
    "Here you should define your network. As with MNIST, each image is 28x28 which is a total of 784 pixels, and there are 10 classes. You should include at least one hidden layer. We suggest you use ReLU activations for the layers and to return the logits from the forward pass. It's up to you how many layers you add and the size of those layers."
   ]
  },
  {
   "cell_type": "code",
   "execution_count": 11,
   "metadata": {},
   "outputs": [],
   "source": [
    "# TODO: Define your network architecture here\n",
    "class Network(nn.Module):\n",
    "    def __init__(self):\n",
    "        super().__init__()\n",
    "        self.fc1 = nn.Linear(784, 256)\n",
    "        self.fc2 = nn.Linear(256, 128)\n",
    "        self.fc3 = nn.Linear(128, 64)\n",
    "        self.fc4 = nn.Linear(64, 10)\n",
    "    \n",
    "    def forward(self, x):\n",
    "        x = self.fc1(x)      \n",
    "        x = F.relu(x)\n",
    "        x = self.fc2(x)      \n",
    "        x = F.relu(x)\n",
    "        x = self.fc3(x)      \n",
    "        x = F.relu(x)\n",
    "        x = self.fc4(x)\n",
    "        \n",
    "        return x"
   ]
  },
  {
   "cell_type": "markdown",
   "metadata": {},
   "source": [
    "# Train the network\n",
    "\n",
    "Now you should create your network and train it. First you'll want to define [the criterion](http://pytorch.org/docs/master/nn.html#loss-functions) ( something like `nn.CrossEntropyLoss`) and [the optimizer](http://pytorch.org/docs/master/optim.html) (typically `optim.SGD` or `optim.Adam`).\n",
    "\n",
    "Then write the training code. Remember the training pass is a fairly straightforward process:\n",
    "\n",
    "* Make a forward pass through the network to get the logits \n",
    "* Use the logits to calculate the loss\n",
    "* Perform a backward pass through the network with `loss.backward()` to calculate the gradients\n",
    "* Take a step with the optimizer to update the weights\n",
    "\n",
    "By adjusting the hyperparameters (hidden units, learning rate, etc), you should be able to get the training loss below 0.4."
   ]
  },
  {
   "cell_type": "code",
   "execution_count": 12,
   "metadata": {},
   "outputs": [],
   "source": [
    "# TODO: Create the network, define the criterion and optimizer\n",
    "model = Network()\n",
    "criterion = nn.CrossEntropyLoss()\n",
    "optimizer = optim.Adam(model.parameters(), lr=0.01)"
   ]
  },
  {
   "cell_type": "code",
   "execution_count": 13,
   "metadata": {},
   "outputs": [
    {
     "name": "stdout",
     "output_type": "stream",
     "text": [
      "Epoch: 1/10...  Loss: 1.1866\n",
      "Epoch: 1/10...  Loss: 0.7957\n",
      "Epoch: 1/10...  Loss: 0.6644\n",
      "Epoch: 1/10...  Loss: 0.6432\n",
      "Epoch: 1/10...  Loss: 0.6240\n",
      "Epoch: 1/10...  Loss: 0.5889\n",
      "Epoch: 1/10...  Loss: 0.5690\n",
      "Epoch: 1/10...  Loss: 0.6539\n",
      "Epoch: 1/10...  Loss: 0.5145\n",
      "Epoch: 1/10...  Loss: 0.5259\n",
      "Epoch: 1/10...  Loss: 0.5241\n",
      "Epoch: 1/10...  Loss: 0.5405\n",
      "Epoch: 1/10...  Loss: 0.5235\n",
      "Epoch: 1/10...  Loss: 0.5845\n",
      "Epoch: 1/10...  Loss: 0.5496\n",
      "Epoch: 1/10...  Loss: 0.5138\n",
      "Epoch: 1/10...  Loss: 0.5270\n",
      "Epoch: 1/10...  Loss: 0.5171\n",
      "Epoch: 1/10...  Loss: 0.4808\n",
      "Epoch: 1/10...  Loss: 0.4677\n",
      "Epoch: 1/10...  Loss: 0.4946\n",
      "Epoch: 1/10...  Loss: 0.5247\n",
      "Epoch: 1/10...  Loss: 0.5019\n",
      "Epoch: 2/10...  Loss: 0.2803\n",
      "Epoch: 2/10...  Loss: 0.4759\n",
      "Epoch: 2/10...  Loss: 0.5232\n",
      "Epoch: 2/10...  Loss: 0.4729\n",
      "Epoch: 2/10...  Loss: 0.4765\n",
      "Epoch: 2/10...  Loss: 0.4511\n",
      "Epoch: 2/10...  Loss: 0.4752\n",
      "Epoch: 2/10...  Loss: 0.4884\n",
      "Epoch: 2/10...  Loss: 0.4867\n",
      "Epoch: 2/10...  Loss: 0.4389\n",
      "Epoch: 2/10...  Loss: 0.4487\n",
      "Epoch: 2/10...  Loss: 0.4497\n",
      "Epoch: 2/10...  Loss: 0.4438\n",
      "Epoch: 2/10...  Loss: 0.4558\n",
      "Epoch: 2/10...  Loss: 0.4935\n",
      "Epoch: 2/10...  Loss: 0.4695\n",
      "Epoch: 2/10...  Loss: 0.4761\n",
      "Epoch: 2/10...  Loss: 0.4628\n",
      "Epoch: 2/10...  Loss: 0.4444\n",
      "Epoch: 2/10...  Loss: 0.4646\n",
      "Epoch: 2/10...  Loss: 0.4738\n",
      "Epoch: 2/10...  Loss: 0.4475\n",
      "Epoch: 2/10...  Loss: 0.4953\n",
      "Epoch: 3/10...  Loss: 0.0397\n",
      "Epoch: 3/10...  Loss: 0.4353\n",
      "Epoch: 3/10...  Loss: 0.4311\n",
      "Epoch: 3/10...  Loss: 0.4064\n",
      "Epoch: 3/10...  Loss: 0.4297\n",
      "Epoch: 3/10...  Loss: 0.4359\n",
      "Epoch: 3/10...  Loss: 0.4331\n",
      "Epoch: 3/10...  Loss: 0.4125\n",
      "Epoch: 3/10...  Loss: 0.4254\n",
      "Epoch: 3/10...  Loss: 0.4489\n",
      "Epoch: 3/10...  Loss: 0.4670\n",
      "Epoch: 3/10...  Loss: 0.4358\n",
      "Epoch: 3/10...  Loss: 0.4258\n",
      "Epoch: 3/10...  Loss: 0.4352\n",
      "Epoch: 3/10...  Loss: 0.4468\n",
      "Epoch: 3/10...  Loss: 0.4573\n",
      "Epoch: 3/10...  Loss: 0.4470\n",
      "Epoch: 3/10...  Loss: 0.4111\n",
      "Epoch: 3/10...  Loss: 0.4452\n",
      "Epoch: 3/10...  Loss: 0.4294\n",
      "Epoch: 3/10...  Loss: 0.4817\n",
      "Epoch: 3/10...  Loss: 0.4356\n",
      "Epoch: 3/10...  Loss: 0.4352\n",
      "Epoch: 3/10...  Loss: 0.4822\n",
      "Epoch: 4/10...  Loss: 0.2919\n",
      "Epoch: 4/10...  Loss: 0.4214\n",
      "Epoch: 4/10...  Loss: 0.3900\n",
      "Epoch: 4/10...  Loss: 0.4292\n",
      "Epoch: 4/10...  Loss: 0.4165\n",
      "Epoch: 4/10...  Loss: 0.4201\n",
      "Epoch: 4/10...  Loss: 0.3779\n",
      "Epoch: 4/10...  Loss: 0.3932\n",
      "Epoch: 4/10...  Loss: 0.3907\n",
      "Epoch: 4/10...  Loss: 0.4382\n",
      "Epoch: 4/10...  Loss: 0.3924\n",
      "Epoch: 4/10...  Loss: 0.4010\n",
      "Epoch: 4/10...  Loss: 0.4166\n",
      "Epoch: 4/10...  Loss: 0.3999\n",
      "Epoch: 4/10...  Loss: 0.3827\n",
      "Epoch: 4/10...  Loss: 0.4142\n",
      "Epoch: 4/10...  Loss: 0.4203\n",
      "Epoch: 4/10...  Loss: 0.3798\n",
      "Epoch: 4/10...  Loss: 0.4324\n",
      "Epoch: 4/10...  Loss: 0.3960\n",
      "Epoch: 4/10...  Loss: 0.3751\n",
      "Epoch: 4/10...  Loss: 0.3994\n",
      "Epoch: 4/10...  Loss: 0.3970\n"
     ]
    }
   ],
   "source": [
    "# TODO: Train the network here\n",
    "step = 0\n",
    "for epoch in range(4):\n",
    "    running_loss = 0\n",
    "    for images, labels in iter(trainloader):\n",
    "        step += 1\n",
    "        images.resize_(images.size()[0], 784)\n",
    "        \n",
    "        optimizer.zero_grad()\n",
    "        \n",
    "        # Forward and backward passes\n",
    "        output = model.forward(images)\n",
    "        loss = criterion(output, labels)\n",
    "        loss.backward()\n",
    "        optimizer.step()\n",
    "        \n",
    "        running_loss += loss.item()\n",
    "        \n",
    "        if step % 40 == 0:\n",
    "            print(\"Epoch: {}/{}... \".format(epoch+1, 10),\n",
    "                  \"Loss: {:.4f}\".format(running_loss/40))\n",
    "            running_loss = 0\n",
    "        "
   ]
  },
  {
   "cell_type": "code",
   "execution_count": 14,
   "metadata": {},
   "outputs": [
    {
     "data": {
      "image/png": "[encoded data removed]",
      "text/plain": [
       "<matplotlib.figure.Figure at 0x7f963eee87b8>"
      ]
     },
     "metadata": {
      "image/png": {
       "height": 204,
       "width": 423
      }
     },
     "output_type": "display_data"
    }
   ],
   "source": [
    "# Test out your network!\n",
    "\n",
    "dataiter = iter(testloader)\n",
    "images, labels = dataiter.next()\n",
    "img = images[0]\n",
    "# Convert 2D image to 1D vector\n",
    "img = img.resize_(1, 784)\n",
    "\n",
    "# TODO: Calculate the class probabilities (softmax) for img\n",
    "with torch.no_grad():\n",
    "    logits = model.forward(img)\n",
    "\n",
    "# Output of the network are logits, need to take softmax for probabilities\n",
    "ps = F.softmax(logits, dim=1)\n",
    "\n",
    "# Plot the image and probabilities\n",
    "helper.view_classify(img.resize_(1, 28, 28), ps, version='Fashion')"
   ]
  },
  {
   "cell_type": "markdown",
   "metadata": {},
   "source": [
    "Now that your network is trained, you'll want to save it to disk so you can load it later instead of training it again. Obviously, it's impractical to train a network every time you need one. In practice, you'll train it once, save the model, then reload it for further training or making predictions. In the next part, I'll show you how to save and load trained models."
   ]
  }
 ],
 "metadata": {
  "kernelspec": {
   "display_name": "Python 3",
   "language": "python",
   "name": "python3"
  },
  "language_info": {
   "codemirror_mode": {
    "name": "ipython",
    "version": 3
   },
   "file_extension": ".py",
   "mimetype": "text/x-python",
   "name": "python",
   "nbconvert_exporter": "python",
   "pygments_lexer": "ipython3",
   "version": "3.6.3"
  }
 },
 "nbformat": 4,
 "nbformat_minor": 2
}
